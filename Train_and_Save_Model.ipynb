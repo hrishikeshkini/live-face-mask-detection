{
  "nbformat": 4,
  "nbformat_minor": 2,
  "metadata": {
    "orig_nbformat": 4,
    "language_info": {
      "name": "python",
      "version": "3.8.10",
      "mimetype": "text/x-python",
      "codemirror_mode": {
        "name": "ipython",
        "version": 3
      },
      "pygments_lexer": "ipython3",
      "nbconvert_exporter": "python",
      "file_extension": ".py"
    },
    "kernelspec": {
      "name": "python3",
      "display_name": "Python 3.8.10 64-bit"
    },
    "interpreter": {
      "hash": "a489cbb0eae0a24a60f8088f55ce5738539775e5ac9fc8cc38d3ce40d9c721f5"
    },
    "colab": {
      "name": "facemaskdetection.ipynb",
      "provenance": [],
      "collapsed_sections": []
    }
  },
  "cells": [
    {
      "cell_type": "code",
      "execution_count": 1,
      "source": [
        "import cv2\r\n",
        "import os\r\n",
        "import tensorflow\r\n",
        "from tensorflow.keras.preprocessing import image"
      ],
      "outputs": [],
      "metadata": {
        "id": "gpbLSYgJvpRY"
      }
    },
    {
      "cell_type": "code",
      "execution_count": 3,
      "source": [
        "data = []\r\n",
        "categories = ['with_mask', 'without_mask']\r\n",
        "for category in categories:\r\n",
        "\tpath = os.path.join('/content/drive/MyDrive/facemask/train', category)\r\n",
        "\tlabel = categories.index(category)\r\n",
        "\tfor file in os.listdir(path):\r\n",
        "\t\timg_path = os.path.join(path, file)\r\n",
        "\t\timg = cv2.imread(img_path)\r\n",
        "\t\timg = cv2.resize(img, (224, 224))\r\n",
        "\t\tdata.append([img, label])\r\n"
      ],
      "outputs": [],
      "metadata": {
        "id": "n8wH2DUNvpR7"
      }
    },
    {
      "cell_type": "code",
      "execution_count": 4,
      "source": [
        "import random\r\n",
        "random.shuffle(data)"
      ],
      "outputs": [],
      "metadata": {
        "id": "TubqwypAvpSB"
      }
    },
    {
      "cell_type": "code",
      "execution_count": 5,
      "source": [
        "x = []\r\n",
        "y = []\r\n",
        "for features, label in data:\r\n",
        "    x.append(features)\r\n",
        "    y.append(label)"
      ],
      "outputs": [],
      "metadata": {
        "id": "vMuW2mSivpSG"
      }
    },
    {
      "cell_type": "code",
      "execution_count": 6,
      "source": [
        "import numpy as np\r\n",
        "x = np.array(x)\r\n",
        "y = np.array(y)"
      ],
      "outputs": [],
      "metadata": {
        "id": "qmQEO86HvpSJ"
      }
    },
    {
      "cell_type": "code",
      "execution_count": 7,
      "source": [
        "x = x/255"
      ],
      "outputs": [],
      "metadata": {
        "id": "ahRjyQuXvpSN"
      }
    },
    {
      "cell_type": "code",
      "execution_count": 8,
      "source": [
        "from sklearn.model_selection import train_test_split\r\n",
        "x_train, x_test, y_train, y_test = train_test_split(x, y, test_size=0.2)"
      ],
      "outputs": [],
      "metadata": {
        "id": "YrCDvmdLvpSQ"
      }
    },
    {
      "cell_type": "code",
      "execution_count": 9,
      "source": [
        "from tensorflow.keras.applications.vgg16 import VGG16"
      ],
      "outputs": [],
      "metadata": {
        "id": "qoRZLmP9vpSW"
      }
    },
    {
      "cell_type": "code",
      "execution_count": 10,
      "source": [
        "vgg = VGG16()"
      ],
      "outputs": [
        {
          "output_type": "stream",
          "name": "stdout",
          "text": [
            "Downloading data from https://storage.googleapis.com/tensorflow/keras-applications/vgg16/vgg16_weights_tf_dim_ordering_tf_kernels.h5\n",
            "553467904/553467096 [==============================] - 5s 0us/step\n",
            "553476096/553467096 [==============================] - 5s 0us/step\n"
          ]
        }
      ],
      "metadata": {
        "id": "05Iz4RBHvpSc",
        "colab": {
          "base_uri": "https://localhost:8080/"
        },
        "outputId": "fd643311-9327-4a52-b54c-f91e15e7438d"
      }
    },
    {
      "cell_type": "code",
      "execution_count": 11,
      "source": [
        "vgg.summary()"
      ],
      "outputs": [
        {
          "output_type": "stream",
          "name": "stdout",
          "text": [
            "Model: \"vgg16\"\n",
            "_________________________________________________________________\n",
            "Layer (type)                 Output Shape              Param #   \n",
            "=================================================================\n",
            "input_1 (InputLayer)         [(None, 224, 224, 3)]     0         \n",
            "_________________________________________________________________\n",
            "block1_conv1 (Conv2D)        (None, 224, 224, 64)      1792      \n",
            "_________________________________________________________________\n",
            "block1_conv2 (Conv2D)        (None, 224, 224, 64)      36928     \n",
            "_________________________________________________________________\n",
            "block1_pool (MaxPooling2D)   (None, 112, 112, 64)      0         \n",
            "_________________________________________________________________\n",
            "block2_conv1 (Conv2D)        (None, 112, 112, 128)     73856     \n",
            "_________________________________________________________________\n",
            "block2_conv2 (Conv2D)        (None, 112, 112, 128)     147584    \n",
            "_________________________________________________________________\n",
            "block2_pool (MaxPooling2D)   (None, 56, 56, 128)       0         \n",
            "_________________________________________________________________\n",
            "block3_conv1 (Conv2D)        (None, 56, 56, 256)       295168    \n",
            "_________________________________________________________________\n",
            "block3_conv2 (Conv2D)        (None, 56, 56, 256)       590080    \n",
            "_________________________________________________________________\n",
            "block3_conv3 (Conv2D)        (None, 56, 56, 256)       590080    \n",
            "_________________________________________________________________\n",
            "block3_pool (MaxPooling2D)   (None, 28, 28, 256)       0         \n",
            "_________________________________________________________________\n",
            "block4_conv1 (Conv2D)        (None, 28, 28, 512)       1180160   \n",
            "_________________________________________________________________\n",
            "block4_conv2 (Conv2D)        (None, 28, 28, 512)       2359808   \n",
            "_________________________________________________________________\n",
            "block4_conv3 (Conv2D)        (None, 28, 28, 512)       2359808   \n",
            "_________________________________________________________________\n",
            "block4_pool (MaxPooling2D)   (None, 14, 14, 512)       0         \n",
            "_________________________________________________________________\n",
            "block5_conv1 (Conv2D)        (None, 14, 14, 512)       2359808   \n",
            "_________________________________________________________________\n",
            "block5_conv2 (Conv2D)        (None, 14, 14, 512)       2359808   \n",
            "_________________________________________________________________\n",
            "block5_conv3 (Conv2D)        (None, 14, 14, 512)       2359808   \n",
            "_________________________________________________________________\n",
            "block5_pool (MaxPooling2D)   (None, 7, 7, 512)         0         \n",
            "_________________________________________________________________\n",
            "flatten (Flatten)            (None, 25088)             0         \n",
            "_________________________________________________________________\n",
            "fc1 (Dense)                  (None, 4096)              102764544 \n",
            "_________________________________________________________________\n",
            "fc2 (Dense)                  (None, 4096)              16781312  \n",
            "_________________________________________________________________\n",
            "predictions (Dense)          (None, 1000)              4097000   \n",
            "=================================================================\n",
            "Total params: 138,357,544\n",
            "Trainable params: 138,357,544\n",
            "Non-trainable params: 0\n",
            "_________________________________________________________________\n"
          ]
        }
      ],
      "metadata": {
        "id": "AFmT8cAzvpSn",
        "colab": {
          "base_uri": "https://localhost:8080/"
        },
        "outputId": "519f5706-6ae7-4ff3-a532-7a1a868f80b5"
      }
    },
    {
      "cell_type": "code",
      "execution_count": 12,
      "source": [
        "from tensorflow.keras import Sequential"
      ],
      "outputs": [],
      "metadata": {
        "id": "ajimMhnBvpSr"
      }
    },
    {
      "cell_type": "code",
      "execution_count": 13,
      "source": [
        "model = Sequential()"
      ],
      "outputs": [],
      "metadata": {
        "id": "wi3DHg2ovpSu"
      }
    },
    {
      "cell_type": "code",
      "execution_count": 14,
      "source": [
        "for layer in vgg.layers[:-1]:\r\n",
        "    model.add(layer)"
      ],
      "outputs": [],
      "metadata": {
        "id": "Wp3Z7k25vpSw"
      }
    },
    {
      "cell_type": "code",
      "execution_count": 15,
      "source": [
        "model.summary()"
      ],
      "outputs": [
        {
          "output_type": "stream",
          "name": "stdout",
          "text": [
            "Model: \"sequential\"\n",
            "_________________________________________________________________\n",
            "Layer (type)                 Output Shape              Param #   \n",
            "=================================================================\n",
            "block1_conv1 (Conv2D)        (None, 224, 224, 64)      1792      \n",
            "_________________________________________________________________\n",
            "block1_conv2 (Conv2D)        (None, 224, 224, 64)      36928     \n",
            "_________________________________________________________________\n",
            "block1_pool (MaxPooling2D)   (None, 112, 112, 64)      0         \n",
            "_________________________________________________________________\n",
            "block2_conv1 (Conv2D)        (None, 112, 112, 128)     73856     \n",
            "_________________________________________________________________\n",
            "block2_conv2 (Conv2D)        (None, 112, 112, 128)     147584    \n",
            "_________________________________________________________________\n",
            "block2_pool (MaxPooling2D)   (None, 56, 56, 128)       0         \n",
            "_________________________________________________________________\n",
            "block3_conv1 (Conv2D)        (None, 56, 56, 256)       295168    \n",
            "_________________________________________________________________\n",
            "block3_conv2 (Conv2D)        (None, 56, 56, 256)       590080    \n",
            "_________________________________________________________________\n",
            "block3_conv3 (Conv2D)        (None, 56, 56, 256)       590080    \n",
            "_________________________________________________________________\n",
            "block3_pool (MaxPooling2D)   (None, 28, 28, 256)       0         \n",
            "_________________________________________________________________\n",
            "block4_conv1 (Conv2D)        (None, 28, 28, 512)       1180160   \n",
            "_________________________________________________________________\n",
            "block4_conv2 (Conv2D)        (None, 28, 28, 512)       2359808   \n",
            "_________________________________________________________________\n",
            "block4_conv3 (Conv2D)        (None, 28, 28, 512)       2359808   \n",
            "_________________________________________________________________\n",
            "block4_pool (MaxPooling2D)   (None, 14, 14, 512)       0         \n",
            "_________________________________________________________________\n",
            "block5_conv1 (Conv2D)        (None, 14, 14, 512)       2359808   \n",
            "_________________________________________________________________\n",
            "block5_conv2 (Conv2D)        (None, 14, 14, 512)       2359808   \n",
            "_________________________________________________________________\n",
            "block5_conv3 (Conv2D)        (None, 14, 14, 512)       2359808   \n",
            "_________________________________________________________________\n",
            "block5_pool (MaxPooling2D)   (None, 7, 7, 512)         0         \n",
            "_________________________________________________________________\n",
            "flatten (Flatten)            (None, 25088)             0         \n",
            "_________________________________________________________________\n",
            "fc1 (Dense)                  (None, 4096)              102764544 \n",
            "_________________________________________________________________\n",
            "fc2 (Dense)                  (None, 4096)              16781312  \n",
            "=================================================================\n",
            "Total params: 134,260,544\n",
            "Trainable params: 134,260,544\n",
            "Non-trainable params: 0\n",
            "_________________________________________________________________\n"
          ]
        }
      ],
      "metadata": {
        "id": "XYx5bggAvpSy",
        "colab": {
          "base_uri": "https://localhost:8080/"
        },
        "outputId": "65b8d0d1-2142-4420-fc52-aa7bcd6a3352"
      }
    },
    {
      "cell_type": "code",
      "execution_count": 16,
      "source": [
        "for layer in model.layers:\r\n",
        "    layer.trainable = False"
      ],
      "outputs": [],
      "metadata": {
        "id": "Sc6E1GPTvpS1"
      }
    },
    {
      "cell_type": "code",
      "execution_count": 17,
      "source": [
        "model.summary()"
      ],
      "outputs": [
        {
          "output_type": "stream",
          "name": "stdout",
          "text": [
            "Model: \"sequential\"\n",
            "_________________________________________________________________\n",
            "Layer (type)                 Output Shape              Param #   \n",
            "=================================================================\n",
            "block1_conv1 (Conv2D)        (None, 224, 224, 64)      1792      \n",
            "_________________________________________________________________\n",
            "block1_conv2 (Conv2D)        (None, 224, 224, 64)      36928     \n",
            "_________________________________________________________________\n",
            "block1_pool (MaxPooling2D)   (None, 112, 112, 64)      0         \n",
            "_________________________________________________________________\n",
            "block2_conv1 (Conv2D)        (None, 112, 112, 128)     73856     \n",
            "_________________________________________________________________\n",
            "block2_conv2 (Conv2D)        (None, 112, 112, 128)     147584    \n",
            "_________________________________________________________________\n",
            "block2_pool (MaxPooling2D)   (None, 56, 56, 128)       0         \n",
            "_________________________________________________________________\n",
            "block3_conv1 (Conv2D)        (None, 56, 56, 256)       295168    \n",
            "_________________________________________________________________\n",
            "block3_conv2 (Conv2D)        (None, 56, 56, 256)       590080    \n",
            "_________________________________________________________________\n",
            "block3_conv3 (Conv2D)        (None, 56, 56, 256)       590080    \n",
            "_________________________________________________________________\n",
            "block3_pool (MaxPooling2D)   (None, 28, 28, 256)       0         \n",
            "_________________________________________________________________\n",
            "block4_conv1 (Conv2D)        (None, 28, 28, 512)       1180160   \n",
            "_________________________________________________________________\n",
            "block4_conv2 (Conv2D)        (None, 28, 28, 512)       2359808   \n",
            "_________________________________________________________________\n",
            "block4_conv3 (Conv2D)        (None, 28, 28, 512)       2359808   \n",
            "_________________________________________________________________\n",
            "block4_pool (MaxPooling2D)   (None, 14, 14, 512)       0         \n",
            "_________________________________________________________________\n",
            "block5_conv1 (Conv2D)        (None, 14, 14, 512)       2359808   \n",
            "_________________________________________________________________\n",
            "block5_conv2 (Conv2D)        (None, 14, 14, 512)       2359808   \n",
            "_________________________________________________________________\n",
            "block5_conv3 (Conv2D)        (None, 14, 14, 512)       2359808   \n",
            "_________________________________________________________________\n",
            "block5_pool (MaxPooling2D)   (None, 7, 7, 512)         0         \n",
            "_________________________________________________________________\n",
            "flatten (Flatten)            (None, 25088)             0         \n",
            "_________________________________________________________________\n",
            "fc1 (Dense)                  (None, 4096)              102764544 \n",
            "_________________________________________________________________\n",
            "fc2 (Dense)                  (None, 4096)              16781312  \n",
            "=================================================================\n",
            "Total params: 134,260,544\n",
            "Trainable params: 0\n",
            "Non-trainable params: 134,260,544\n",
            "_________________________________________________________________\n"
          ]
        }
      ],
      "metadata": {
        "id": "dO20yaM1vpS3",
        "colab": {
          "base_uri": "https://localhost:8080/"
        },
        "outputId": "cc9112b3-ec93-4523-f802-8cb80c1e5c3b"
      }
    },
    {
      "cell_type": "code",
      "execution_count": 18,
      "source": [
        "from tensorflow.keras.layers import Dense"
      ],
      "outputs": [],
      "metadata": {
        "id": "Ta4ArytXvpS7"
      }
    },
    {
      "cell_type": "code",
      "execution_count": 19,
      "source": [
        "model.add(Dense(1, activation='sigmoid'))"
      ],
      "outputs": [],
      "metadata": {
        "id": "OUVmQHBnvpS8"
      }
    },
    {
      "cell_type": "code",
      "execution_count": 20,
      "source": [
        "model.summary()"
      ],
      "outputs": [
        {
          "output_type": "stream",
          "name": "stdout",
          "text": [
            "Model: \"sequential\"\n",
            "_________________________________________________________________\n",
            "Layer (type)                 Output Shape              Param #   \n",
            "=================================================================\n",
            "block1_conv1 (Conv2D)        (None, 224, 224, 64)      1792      \n",
            "_________________________________________________________________\n",
            "block1_conv2 (Conv2D)        (None, 224, 224, 64)      36928     \n",
            "_________________________________________________________________\n",
            "block1_pool (MaxPooling2D)   (None, 112, 112, 64)      0         \n",
            "_________________________________________________________________\n",
            "block2_conv1 (Conv2D)        (None, 112, 112, 128)     73856     \n",
            "_________________________________________________________________\n",
            "block2_conv2 (Conv2D)        (None, 112, 112, 128)     147584    \n",
            "_________________________________________________________________\n",
            "block2_pool (MaxPooling2D)   (None, 56, 56, 128)       0         \n",
            "_________________________________________________________________\n",
            "block3_conv1 (Conv2D)        (None, 56, 56, 256)       295168    \n",
            "_________________________________________________________________\n",
            "block3_conv2 (Conv2D)        (None, 56, 56, 256)       590080    \n",
            "_________________________________________________________________\n",
            "block3_conv3 (Conv2D)        (None, 56, 56, 256)       590080    \n",
            "_________________________________________________________________\n",
            "block3_pool (MaxPooling2D)   (None, 28, 28, 256)       0         \n",
            "_________________________________________________________________\n",
            "block4_conv1 (Conv2D)        (None, 28, 28, 512)       1180160   \n",
            "_________________________________________________________________\n",
            "block4_conv2 (Conv2D)        (None, 28, 28, 512)       2359808   \n",
            "_________________________________________________________________\n",
            "block4_conv3 (Conv2D)        (None, 28, 28, 512)       2359808   \n",
            "_________________________________________________________________\n",
            "block4_pool (MaxPooling2D)   (None, 14, 14, 512)       0         \n",
            "_________________________________________________________________\n",
            "block5_conv1 (Conv2D)        (None, 14, 14, 512)       2359808   \n",
            "_________________________________________________________________\n",
            "block5_conv2 (Conv2D)        (None, 14, 14, 512)       2359808   \n",
            "_________________________________________________________________\n",
            "block5_conv3 (Conv2D)        (None, 14, 14, 512)       2359808   \n",
            "_________________________________________________________________\n",
            "block5_pool (MaxPooling2D)   (None, 7, 7, 512)         0         \n",
            "_________________________________________________________________\n",
            "flatten (Flatten)            (None, 25088)             0         \n",
            "_________________________________________________________________\n",
            "fc1 (Dense)                  (None, 4096)              102764544 \n",
            "_________________________________________________________________\n",
            "fc2 (Dense)                  (None, 4096)              16781312  \n",
            "_________________________________________________________________\n",
            "dense (Dense)                (None, 1)                 4097      \n",
            "=================================================================\n",
            "Total params: 134,264,641\n",
            "Trainable params: 4,097\n",
            "Non-trainable params: 134,260,544\n",
            "_________________________________________________________________\n"
          ]
        }
      ],
      "metadata": {
        "id": "O2F8wiuUvpS-",
        "colab": {
          "base_uri": "https://localhost:8080/"
        },
        "outputId": "79c5e914-55ea-41bb-f177-09b6314f82ab"
      }
    },
    {
      "cell_type": "code",
      "execution_count": 21,
      "source": [
        "model.compile(optimizer='Adam', loss = 'binary_crossentropy', metrics = ['accuracy'])"
      ],
      "outputs": [],
      "metadata": {
        "id": "N0YKm7v0vpTA"
      }
    },
    {
      "cell_type": "code",
      "execution_count": 22,
      "source": [
        "model.fit(x_train, y_train, epochs = 5, validation_data=(x_test, y_test))"
      ],
      "outputs": [
        {
          "output_type": "stream",
          "name": "stdout",
          "text": [
            "Epoch 1/5\n",
            "21/21 [==============================] - 397s 19s/step - loss: 0.5855 - accuracy: 0.7143 - val_loss: 0.5439 - val_accuracy: 0.6564\n",
            "Epoch 2/5\n",
            "21/21 [==============================] - 395s 19s/step - loss: 0.4303 - accuracy: 0.8095 - val_loss: 0.3166 - val_accuracy: 0.9264\n",
            "Epoch 3/5\n",
            "21/21 [==============================] - 394s 19s/step - loss: 0.3151 - accuracy: 0.8955 - val_loss: 0.2715 - val_accuracy: 0.9141\n",
            "Epoch 4/5\n",
            "21/21 [==============================] - 395s 19s/step - loss: 0.2468 - accuracy: 0.9370 - val_loss: 0.2252 - val_accuracy: 0.9448\n",
            "Epoch 5/5\n",
            "21/21 [==============================] - 398s 19s/step - loss: 0.2126 - accuracy: 0.9478 - val_loss: 0.2020 - val_accuracy: 0.9387\n"
          ]
        },
        {
          "output_type": "execute_result",
          "data": {
            "text/plain": [
              "<keras.callbacks.History at 0x7f6df0d27a90>"
            ]
          },
          "metadata": {},
          "execution_count": 22
        }
      ],
      "metadata": {
        "id": "pFsRyTT0vpTD",
        "colab": {
          "base_uri": "https://localhost:8080/"
        },
        "outputId": "a36313ec-9a82-494a-c99e-864cd6bcf5ab"
      }
    },
    {
      "cell_type": "code",
      "execution_count": 84,
      "source": [
        "model.save(\"model.h5\")"
      ],
      "outputs": [],
      "metadata": {
        "id": "YMSQWjlxkc7F"
      }
    }
  ]
}